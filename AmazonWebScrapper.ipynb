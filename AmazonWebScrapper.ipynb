{
 "cells": [
  {
   "cell_type": "code",
   "execution_count": null,
   "id": "63bf7a39-0112-4d57-afee-4b849cee24b1",
   "metadata": {},
   "outputs": [],
   "source": [
    "# import libraries \n",
    "from bs4 import BeautifulSoup\n",
    "import requests\n",
    "import time\n",
    "import datetime\n",
    "import smtplib"
   ]
  },
  {
   "cell_type": "code",
   "execution_count": null,
   "id": "e0a77d9f-6da2-4035-a4d4-704fd4308541",
   "metadata": {},
   "outputs": [],
   "source": [
    "URL = https://www.amazon.in/Peter-England-Mens-Shirt-PESFWSLBW01313_Navy/dp/B0CVS15393/ref=sr_1_14?crid=1ECTPQGF78TXI&dib=eyJ2IjoiMSJ9.bilVev1-Uv0yJ9-tge8QBL_Qb-5ne7hwTtpnMhCLPjR6NBbRc70GBgYm-Ez2gVqNACBvAGoD-HNQN3V17tLjMKhZJpvjoExFUhVy7Poafw-dtOfnnp90emOF4U3Up71TNufgp6Aw2_b2sCvzrSUlVxTmstTwu9j-3SxDUyTyqimUfNCNVV6VQRm3RVCKToIcyKhdvIvqaZQdZLg3sUoVffVAxaGtY1V-Q_2b88LgKkCU2SwU44Fz4TXaWCjopHF_EQaAdSpCsF3aDP0Vf6dBzw1WVJdE2ulgiWwqsfywZOI.CZ5OG8_7ngvPug9dWaXEyudmXvpmGCwn9jvmsY1e33Q&dib_tag=se&keywords=shirt+for+man&qid=1749270818&sprefix=Shirt%2Caps%2C258&sr=8-14\n",
    "\n",
    "headers = {\n",
    "  \"User-Agent\": \"Mozilla/5.0 (Windows NT 10.0; Win64; x64) AppleWebKit/537.36 (KHTML, like Gecko) Chrome/137.0.0.0 Safari/537.36 Edg/137.0.0.0\", \n",
    "    \"X-Amzn-Trace-Id\": \"Root=1-6843c20d-0eaaf75048607ef1093a8be2\"\n",
    "}\n",
    "\n",
    "response = requests.get(URL, headers=headers)\n",
    "soup = BeautifulSoup(response.content, \"html.parser\")\n",
    "\n",
    "# Get title\n",
    "title_tag = soup.find(id='productTitle')\n",
    "title = title_tag.get_text().strip() if title_tag else \"Title not found\"\n",
    "\n",
    "# Get price\n",
    "price_tag = (\n",
    "    soup.find(id='priceblock_ourprice') or\n",
    "    soup.find(id='priceblock_dealprice') or\n",
    "    soup.find('span', class_='a-offscreen')\n",
    ")\n",
    "price = price_tag.get_text().strip() if price_tag else \"Price not found\"\n",
    "\n",
    "print(title)\n",
    "print(price)\n"
   ]
  },
  {
   "cell_type": "code",
   "execution_count": null,
   "id": "25bd1ffb-39d5-41d4-a73d-d8eaa8600f2c",
   "metadata": {},
   "outputs": [],
   "source": [
    "price = price.strip()[1:]\n",
    "title = title.strip()\n",
    "\n",
    "print(title)\n",
    "print(price)"
   ]
  },
  {
   "cell_type": "code",
   "execution_count": 5,
   "id": "89ffd631-f160-4b20-975a-1d54b2308dd6",
   "metadata": {},
   "outputs": [
    {
     "name": "stdout",
     "output_type": "stream",
     "text": [
      "2025-06-07\n"
     ]
    }
   ],
   "source": [
    "import datetime\n",
    "\n",
    "today = datetime.date.today()\n",
    "\n",
    "print(today)"
   ]
  },
  {
   "cell_type": "code",
   "execution_count": null,
   "id": "d24ce766-c59e-44d6-9c27-681de5643bdf",
   "metadata": {},
   "outputs": [],
   "source": [
    "import csv \n",
    "\n",
    "header = ['Title', 'Price', 'Date']\n",
    "data = [title, price, today]\n",
    "\n",
    "\n",
    "with open('AmazonWebScraperDataset.csv', 'w', newline='', encoding='UTF8') as f:\n",
    "    writer = csv.writer(f)\n",
    "    writer.writerow(header)\n",
    "    writer.writerow(data)\n",
    "    "
   ]
  },
  {
   "cell_type": "code",
   "execution_count": null,
   "id": "4b0aab58-6720-454c-ab10-da194589ef5b",
   "metadata": {},
   "outputs": [],
   "source": [
    "import csv\n",
    "\n",
    "data = ['Hello Data Systems T-Shirt', '$19.99']\n",
    "\n",
    "with open('AmazonWebScraperDataset.csv', 'a+', newline='', encoding='UTF8') as f:\n",
    "    writer = csv.writer(f)\n",
    "    writer.writerow(data)\n"
   ]
  },
  {
   "cell_type": "code",
   "execution_count": null,
   "id": "46163f19-735c-4e0b-83bf-f7ef25ca0e5c",
   "metadata": {},
   "outputs": [
    {
     "name": "stdout",
     "output_type": "stream",
     "text": [
      "Checking price...\n"
     ]
    }
   ],
   "source": [
    "import time\n",
    "\n",
    "def check_price():\n",
    "    print(\"Checking price...\")  \n",
    "while True:\n",
    "    check_price()\n",
    "    time.sleep(86400)\n"
   ]
  },
  {
   "cell_type": "code",
   "execution_count": null,
   "id": "57e4bd09-f0a2-46eb-ba77-b2ce48491872",
   "metadata": {},
   "outputs": [],
   "source": [
    "import pandas as pd\n",
    "\n",
    "df = pd.read_csv(r'C:\\Users\\suman\\AmazonWebScraperDataset.csv')\n",
    "\n",
    "print(df)"
   ]
  },
  {
   "cell_type": "code",
   "execution_count": null,
   "id": "042260f1-134b-4679-9cf8-f044fb301763",
   "metadata": {},
   "outputs": [],
   "source": [
    "with open('AmazonWebScraperDataset.csv', 'a+', newline='', encoding='UTF8') as f:\n",
    "    writer = csv.writer(f)\n",
    "    writer.writerow(data)"
   ]
  },
  {
   "cell_type": "code",
   "execution_count": null,
   "id": "2719bba5-7334-46b0-9003-1f7bf439afb4",
   "metadata": {},
   "outputs": [],
   "source": [
    "def check_price():\n",
    " URL = https://www.amazon.in/Peter-England-Mens-Shirt-PESFWSLBW01313_Navy/dp/B0CVS15393/ref=sr_1_14?crid=1ECTPQGF78TXI&dib=eyJ2IjoiMSJ9.bilVev1-Uv0yJ9-tge8QBL_Qb-5ne7hwTtpnMhCLPjR6NBbRc70GBgYm-Ez2gVqNACBvAGoD-HNQN3V17tLjMKhZJpvjoExFUhVy7Poafw-dtOfnnp90emOF4U3Up71TNufgp6Aw2_b2sCvzrSUlVxTmstTwu9j-3SxDUyTyqimUfNCNVV6VQRm3RVCKToIcyKhdvIvqaZQdZLg3sUoVffVAxaGtY1V-Q_2b88LgKkCU2SwU44Fz4TXaWCjopHF_EQaAdSpCsF3aDP0Vf6dBzw1WVJdE2ulgiWwqsfywZOI.CZ5OG8_7ngvPug9dWaXEyudmXvpmGCwn9jvmsY1e33Q&dib_tag=se&keywords=shirt+for+man&qid=1749270818&sprefix=Shirt%2Caps%2C258&sr=8-14\n",
    "\n",
    "headers = {\n",
    "  \"User-Agent\": \"Mozilla/5.0 (Windows NT 10.0; Win64; x64) AppleWebKit/537.36 (KHTML, like Gecko) Chrome/137.0.0.0 Safari/537.36 Edg/137.0.0.0\", \n",
    "    \"X-Amzn-Trace-Id\": \"Root=1-6843c20d-0eaaf75048607ef1093a8be2\"\n",
    "}\n",
    "    page = requests.get(URL, headers=headers)\n",
    "\n",
    "    soup1 = BeautifulSoup(page.content, \"html.parser\")\n",
    "\n",
    "    soup2 = BeautifulSoup(soup1.prettify(), \"html.parser\")\n",
    "\n",
    "    title = soup2.find(id='productTitle').get_text()\n",
    "\n",
    "    price = soup2.find(id='priceblock_ourprice').get_text()\n",
    "\n",
    "    price = price.strip()[1:]\n",
    "    title = title.strip()\n",
    "\n",
    "    import datetime\n",
    "\n",
    "    today = datetime.date.today()\n",
    "    \n",
    "    import csv \n",
    "\n",
    "    header = ['Title', 'Price', 'Date']\n",
    "    data = [title, price, today]\n",
    "\n",
    "    with open('AmazonWebScraperDataset.csv', 'a+', newline='', encoding='UTF8') as f:\n",
    "        writer = csv.writer(f)\n",
    "        writer.writerow(data)\n",
    " "
   ]
  },
  {
   "cell_type": "code",
   "execution_count": null,
   "id": "82fe3a0d-ece5-495f-a9aa-99b11ec2a626",
   "metadata": {},
   "outputs": [],
   "source": [
    "while(True):\n",
    "    check_price()\n",
    "    time.sleep(86400)"
   ]
  },
  {
   "cell_type": "code",
   "execution_count": null,
   "id": "610d2ae4-348e-4fb0-a011-c9d4a58a4f07",
   "metadata": {},
   "outputs": [],
   "source": [
    "import pandas as pd\n",
    "\n",
    "df = pd.read_csv(r'C:\\Users\\suman\\AmazonWebScraperDataset.csv')\n",
    "\n",
    "print(df)"
   ]
  },
  {
   "cell_type": "code",
   "execution_count": null,
   "id": "0bcb2d49-749b-4a3c-8013-d871ce34660b",
   "metadata": {},
   "outputs": [],
   "source": [
    "def send_mail():\n",
    "    server = smtplib.SMTP_SSL('smtp.gmail.com',465)\n",
    "    server.ehlo()\n",
    "    #server.starttls()\n",
    "    server.ehlo()\n",
    "    server.login('sumansaurav8871@gmail.com','xxxxxxxxxxxxxx')\n",
    "    \n",
    "    subject = \"The Shirt you want is below $10! Now is your chance to buy!\"\n",
    "    body = \"Suman, This is the moment we have been waiting for\"\n",
    "    msg = f\"Subject: {subject}\\n\\n{body}\"\n",
    "    \n",
    "    server.sendmail(\n",
    "        'sumansaurav8871@gmail.com',\n",
    "        msg\n",
    "     \n",
    "    )"
   ]
  },
  {
   "cell_type": "code",
   "execution_count": null,
   "id": "017799b4-e2fb-4893-a16f-747c866f8f36",
   "metadata": {},
   "outputs": [],
   "source": []
  }
 ],
 "metadata": {
  "kernelspec": {
   "display_name": "Python 3 (ipykernel)",
   "language": "python",
   "name": "python3"
  },
  "language_info": {
   "codemirror_mode": {
    "name": "ipython",
    "version": 3
   },
   "file_extension": ".py",
   "mimetype": "text/x-python",
   "name": "python",
   "nbconvert_exporter": "python",
   "pygments_lexer": "ipython3",
   "version": "3.12.7"
  }
 },
 "nbformat": 4,
 "nbformat_minor": 5
}
